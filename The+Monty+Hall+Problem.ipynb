{
 "cells": [
  {
   "cell_type": "markdown",
   "metadata": {},
   "source": [
    "## The Monty Hall Problem\n",
    "The Monty Hall problem is an interesting and often counter-intuitive game.\n",
    "\n",
    "> Consider that you are a contestant on a game show. There are 3 closed doors. Behind one door is the car (the prize), and behind the other two doors are goats (not the prize). First you are asked to pick one door (call it door A). Without opening door A, the eponymous host of the game, Monty Hall, examines the other two doors. Monty always opens the door with a goat (call it B). If both doors had goats behind them, he picks one at random.\n",
    "\n",
    "> The game is this: _stick_ or _switch_; after finding out about the door B (and the fact that there is a goat behind it), do you stick with your original choice of door A or switch to the other unopened door, C? Statistically speaking, once you know about B, will the probability of the car to be behind C is greater than, less than, or equal to that of behind A?\n",
    "\n",
    "> Surprisingly, the odds aren't 50-50. If you switch doors you'll win 2/3 of the time!\n",
    "\n",
    "**Monty hall problem**: Implement a simulation for the Monty Hall game. Run the simulation 1000 times to figure out the empirical (observed) probability of winning when switching and winning when sticking to the original choice. "
   ]
  },
  {
   "cell_type": "code",
   "execution_count": 3,
   "metadata": {},
   "outputs": [
    {
     "name": "stdout",
     "output_type": "stream",
     "text": [
      "Stick Win : 155\n",
      "Switch Win : 333\n"
     ]
    }
   ],
   "source": [
    "# The Monty Hall Problem\n",
    "# We'll select randomly the door number which have the car\n",
    "import numpy as np\n",
    "import random\n",
    "\n",
    "def simulategame():\n",
    "    stickWin = 0 # Variable for Win with sticking with his decision\n",
    "    switchWin = 0 # Variable for Win with switching his decision\n",
    "    for i in range(1000):\n",
    "        actualCar = np.random.randint(0,3) #actualCar is for actual place of car. It is behind 0,1 or 2 door\n",
    "        carOption = [0,1,2] # 3 doors\n",
    "        conCar = np.random.randint(0,3) #conCar is for contestanst's choice. He/She will choose from 3 door.\n",
    "        #selectionOpt = [0,1,2]\n",
    "        if actualCar == conCar:\n",
    "            carOption.remove(actualCar)\n",
    "            montyChoose = random.choice(carOption) #montyChoose is variable for which door Monty open after the contestant select a door\n",
    "        else:\n",
    "            carOption.remove(actualCar)\n",
    "            carOption.remove(conCar)\n",
    "            montyChoose = random.choice(carOption)\n",
    "\n",
    "        option = np.random.randint(0,2) # 0-stick, 1- switch\n",
    "\n",
    "        if option == 0:\n",
    "            if actualCar == conCar:\n",
    "                stickWin = stickWin + 1\n",
    "        else:\n",
    "            if actualCar != conCar:\n",
    "                switchWin = switchWin + 1\n",
    "    print(\"Stick Win : \" + str(stickWin))\n",
    "    print(\"Switch Win : \" + str(switchWin))\n",
    "\n",
    "simulategame()"
   ]
  }
 ],
 "metadata": {
  "kernelspec": {
   "display_name": "Python 3",
   "language": "python",
   "name": "python3"
  },
  "language_info": {
   "codemirror_mode": {
    "name": "ipython",
    "version": 3
   },
   "file_extension": ".py",
   "mimetype": "text/x-python",
   "name": "python",
   "nbconvert_exporter": "python",
   "pygments_lexer": "ipython3",
   "version": "3.6.3"
  }
 },
 "nbformat": 4,
 "nbformat_minor": 2
}
